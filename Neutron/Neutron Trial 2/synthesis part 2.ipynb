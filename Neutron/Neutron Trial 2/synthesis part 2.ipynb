{
 "cells": [
  {
   "cell_type": "code",
   "execution_count": null,
   "metadata": {},
   "outputs": [],
   "source": [
    "# remaining datasets:\n",
    "\n",
    "# Pb_0inches_closed.tsv\n",
    "\n",
    "# Pb_0inches_open.tsv\n",
    "\n",
    "# 3xLeadCs137.tsv\n",
    "\n",
    "#  3xLeadBa133.tsv\n",
    "\n",
    "# 0xLead6xCarbon.tsv\n",
    "\n",
    "# we can use these to test how much the lead attenuates the gammas by \n",
    "# comparing cs137 rates with and without lead\n",
    "\n",
    "# we can test how much the carbon attenuates it \n",
    "\n",
    "# we can test the whether there are gammas with or without it open\n",
    "\n"
   ]
  }
 ],
 "metadata": {
  "kernelspec": {
   "display_name": "Python 3",
   "language": "python",
   "name": "python3"
  },
  "language_info": {
   "codemirror_mode": {
    "name": "ipython",
    "version": 3
   },
   "file_extension": ".py",
   "mimetype": "text/x-python",
   "name": "python",
   "nbconvert_exporter": "python",
   "pygments_lexer": "ipython3",
   "version": "3.8.3"
  }
 },
 "nbformat": 4,
 "nbformat_minor": 4
}
